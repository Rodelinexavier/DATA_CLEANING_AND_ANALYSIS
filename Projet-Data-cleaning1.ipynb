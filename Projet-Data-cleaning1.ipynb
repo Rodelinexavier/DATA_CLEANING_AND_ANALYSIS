{
 "cells": [
  {
   "cell_type": "code",
   "execution_count": 1495,
   "id": "d840c0a0",
   "metadata": {},
   "outputs": [],
   "source": [
    "import pandas as pd\n",
    "import re\n",
    "import datetime\n",
    "import numpy as np"
   ]
  },
  {
   "cell_type": "code",
   "execution_count": 1496,
   "id": "a81e93fe",
   "metadata": {},
   "outputs": [],
   "source": [
    "df = pd.read_csv('Invoice_20201220.csv',encoding='latin-1',sep= \"|\")"
   ]
  },
  {
   "cell_type": "code",
   "execution_count": 1497,
   "id": "b6f17907",
   "metadata": {},
   "outputs": [
    {
     "data": {
      "text/plain": [
       "(51432, 6)"
      ]
     },
     "execution_count": 1497,
     "metadata": {},
     "output_type": "execute_result"
    }
   ],
   "source": [
    "df.shape"
   ]
  },
  {
   "cell_type": "code",
   "execution_count": 1498,
   "id": "a0926a5a",
   "metadata": {},
   "outputs": [
    {
     "data": {
      "text/html": [
       "<div>\n",
       "<style scoped>\n",
       "    .dataframe tbody tr th:only-of-type {\n",
       "        vertical-align: middle;\n",
       "    }\n",
       "\n",
       "    .dataframe tbody tr th {\n",
       "        vertical-align: top;\n",
       "    }\n",
       "\n",
       "    .dataframe thead th {\n",
       "        text-align: right;\n",
       "    }\n",
       "</style>\n",
       "<table border=\"1\" class=\"dataframe\">\n",
       "  <thead>\n",
       "    <tr style=\"text-align: right;\">\n",
       "      <th></th>\n",
       "      <th>SITE_NAME</th>\n",
       "      <th>INVOICE_NAME</th>\n",
       "      <th>BEGIN</th>\n",
       "      <th>END</th>\n",
       "      <th>KWH_PERIOD</th>\n",
       "      <th>PERIOD_EUR</th>\n",
       "    </tr>\n",
       "  </thead>\n",
       "  <tbody>\n",
       "    <tr>\n",
       "      <th>0</th>\n",
       "      <td>12345_GEO (0001BB)</td>\n",
       "      <td>1300082549</td>\n",
       "      <td>01/01/2018</td>\n",
       "      <td>31/01/2018</td>\n",
       "      <td>2 447</td>\n",
       "      <td>316,46</td>\n",
       "    </tr>\n",
       "    <tr>\n",
       "      <th>1</th>\n",
       "      <td>12345_GEO (0001BB)</td>\n",
       "      <td>1300082549</td>\n",
       "      <td>01/02/2018</td>\n",
       "      <td>28/02/2018</td>\n",
       "      <td>2 211</td>\n",
       "      <td>286,82</td>\n",
       "    </tr>\n",
       "    <tr>\n",
       "      <th>2</th>\n",
       "      <td>12345_GEO (0001BB)</td>\n",
       "      <td>1300082549</td>\n",
       "      <td>01/03/2018</td>\n",
       "      <td>31/03/2018</td>\n",
       "      <td>2 450</td>\n",
       "      <td>317,32</td>\n",
       "    </tr>\n",
       "    <tr>\n",
       "      <th>3</th>\n",
       "      <td>12345_GEO (0001BB)</td>\n",
       "      <td>1300082549</td>\n",
       "      <td>01/04/2018</td>\n",
       "      <td>30/04/2018</td>\n",
       "      <td>2 431</td>\n",
       "      <td>315,00</td>\n",
       "    </tr>\n",
       "    <tr>\n",
       "      <th>4</th>\n",
       "      <td>12345_GEO (0001BB)</td>\n",
       "      <td>1300082549</td>\n",
       "      <td>01/05/2018</td>\n",
       "      <td>31/05/2018</td>\n",
       "      <td>2 574</td>\n",
       "      <td>333,37</td>\n",
       "    </tr>\n",
       "  </tbody>\n",
       "</table>\n",
       "</div>"
      ],
      "text/plain": [
       "            SITE_NAME INVOICE_NAME       BEGIN         END KWH_PERIOD  \\\n",
       "0  12345_GEO (0001BB)   1300082549  01/01/2018  31/01/2018      2 447   \n",
       "1  12345_GEO (0001BB)   1300082549  01/02/2018  28/02/2018      2 211   \n",
       "2  12345_GEO (0001BB)   1300082549  01/03/2018  31/03/2018      2 450   \n",
       "3  12345_GEO (0001BB)   1300082549  01/04/2018  30/04/2018      2 431   \n",
       "4  12345_GEO (0001BB)   1300082549  01/05/2018  31/05/2018      2 574   \n",
       "\n",
       "  PERIOD_EUR  \n",
       "0     316,46  \n",
       "1     286,82  \n",
       "2     317,32  \n",
       "3     315,00  \n",
       "4     333,37  "
      ]
     },
     "execution_count": 1498,
     "metadata": {},
     "output_type": "execute_result"
    }
   ],
   "source": [
    "df.head()"
   ]
  },
  {
   "cell_type": "code",
   "execution_count": 1499,
   "id": "7225b724",
   "metadata": {},
   "outputs": [
    {
     "data": {
      "text/html": [
       "<div>\n",
       "<style scoped>\n",
       "    .dataframe tbody tr th:only-of-type {\n",
       "        vertical-align: middle;\n",
       "    }\n",
       "\n",
       "    .dataframe tbody tr th {\n",
       "        vertical-align: top;\n",
       "    }\n",
       "\n",
       "    .dataframe thead th {\n",
       "        text-align: right;\n",
       "    }\n",
       "</style>\n",
       "<table border=\"1\" class=\"dataframe\">\n",
       "  <thead>\n",
       "    <tr style=\"text-align: right;\">\n",
       "      <th></th>\n",
       "      <th>SITE_NAME</th>\n",
       "      <th>INVOICE_NAME</th>\n",
       "      <th>BEGIN</th>\n",
       "      <th>END</th>\n",
       "      <th>KWH_PERIOD</th>\n",
       "      <th>PERIOD_EUR</th>\n",
       "    </tr>\n",
       "  </thead>\n",
       "  <tbody>\n",
       "    <tr>\n",
       "      <th>51427</th>\n",
       "      <td>19767_GEO (0632KO)</td>\n",
       "      <td>FV1/055100030</td>\n",
       "      <td>30/08/2019</td>\n",
       "      <td>31/12/2019</td>\n",
       "      <td>3 028</td>\n",
       "      <td>397,18</td>\n",
       "    </tr>\n",
       "    <tr>\n",
       "      <th>51428</th>\n",
       "      <td>19767_GEO (0632KO)</td>\n",
       "      <td>055100058</td>\n",
       "      <td>01/01/2020</td>\n",
       "      <td>31/03/2020</td>\n",
       "      <td>2 163</td>\n",
       "      <td>283,57</td>\n",
       "    </tr>\n",
       "    <tr>\n",
       "      <th>51429</th>\n",
       "      <td>19767_GEO (0632KO)</td>\n",
       "      <td>055100113</td>\n",
       "      <td>01/04/2020</td>\n",
       "      <td>30/06/2020</td>\n",
       "      <td>2 160</td>\n",
       "      <td>312,55</td>\n",
       "    </tr>\n",
       "    <tr>\n",
       "      <th>51430</th>\n",
       "      <td>19767_GEO (0632KO)</td>\n",
       "      <td>055100168</td>\n",
       "      <td>01/07/2020</td>\n",
       "      <td>30/09/2020</td>\n",
       "      <td>2 230</td>\n",
       "      <td>294,07</td>\n",
       "    </tr>\n",
       "    <tr>\n",
       "      <th>51431</th>\n",
       "      <td>19883_GEO (1203KO)</td>\n",
       "      <td>7220278453</td>\n",
       "      <td>27/09/2019</td>\n",
       "      <td>31/12/2019</td>\n",
       "      <td>4 745</td>\n",
       "      <td>681,96</td>\n",
       "    </tr>\n",
       "  </tbody>\n",
       "</table>\n",
       "</div>"
      ],
      "text/plain": [
       "                SITE_NAME   INVOICE_NAME       BEGIN         END KWH_PERIOD  \\\n",
       "51427  19767_GEO (0632KO)  FV1/055100030  30/08/2019  31/12/2019      3 028   \n",
       "51428  19767_GEO (0632KO)      055100058  01/01/2020  31/03/2020      2 163   \n",
       "51429  19767_GEO (0632KO)      055100113  01/04/2020  30/06/2020      2 160   \n",
       "51430  19767_GEO (0632KO)      055100168  01/07/2020  30/09/2020      2 230   \n",
       "51431  19883_GEO (1203KO)     7220278453  27/09/2019  31/12/2019      4 745   \n",
       "\n",
       "      PERIOD_EUR  \n",
       "51427     397,18  \n",
       "51428     283,57  \n",
       "51429     312,55  \n",
       "51430     294,07  \n",
       "51431     681,96  "
      ]
     },
     "execution_count": 1499,
     "metadata": {},
     "output_type": "execute_result"
    }
   ],
   "source": [
    "df.tail()"
   ]
  },
  {
   "cell_type": "code",
   "execution_count": 1500,
   "id": "57e941a5",
   "metadata": {},
   "outputs": [
    {
     "name": "stdout",
     "output_type": "stream",
     "text": [
      "<class 'pandas.core.frame.DataFrame'>\n",
      "RangeIndex: 51432 entries, 0 to 51431\n",
      "Data columns (total 6 columns):\n",
      " #   Column        Non-Null Count  Dtype \n",
      "---  ------        --------------  ----- \n",
      " 0   SITE_NAME     51432 non-null  object\n",
      " 1   INVOICE_NAME  51432 non-null  object\n",
      " 2   BEGIN         51432 non-null  object\n",
      " 3   END           51432 non-null  object\n",
      " 4   KWH_PERIOD    51432 non-null  object\n",
      " 5   PERIOD_EUR    51432 non-null  object\n",
      "dtypes: object(6)\n",
      "memory usage: 2.4+ MB\n"
     ]
    }
   ],
   "source": [
    "df.info()"
   ]
  },
  {
   "cell_type": "markdown",
   "id": "f103acf9",
   "metadata": {},
   "source": [
    "#### 1) Le nom d'une antenne a un format bien précis : il est toujours composé de 4 chiffres et de deux lettres. On te demande de retirer tout autre caractère de la colonne \"SITE_NAME\".\n"
   ]
  },
  {
   "cell_type": "code",
   "execution_count": 1501,
   "id": "1189b42a",
   "metadata": {},
   "outputs": [],
   "source": [
    "df['SITE_NAME'] =df['SITE_NAME'].str[-7:-1]"
   ]
  },
  {
   "cell_type": "code",
   "execution_count": 1502,
   "id": "b0e045f9",
   "metadata": {},
   "outputs": [
    {
     "data": {
      "text/html": [
       "<div>\n",
       "<style scoped>\n",
       "    .dataframe tbody tr th:only-of-type {\n",
       "        vertical-align: middle;\n",
       "    }\n",
       "\n",
       "    .dataframe tbody tr th {\n",
       "        vertical-align: top;\n",
       "    }\n",
       "\n",
       "    .dataframe thead th {\n",
       "        text-align: right;\n",
       "    }\n",
       "</style>\n",
       "<table border=\"1\" class=\"dataframe\">\n",
       "  <thead>\n",
       "    <tr style=\"text-align: right;\">\n",
       "      <th></th>\n",
       "      <th>SITE_NAME</th>\n",
       "      <th>INVOICE_NAME</th>\n",
       "      <th>BEGIN</th>\n",
       "      <th>END</th>\n",
       "      <th>KWH_PERIOD</th>\n",
       "      <th>PERIOD_EUR</th>\n",
       "    </tr>\n",
       "  </thead>\n",
       "  <tbody>\n",
       "    <tr>\n",
       "      <th>0</th>\n",
       "      <td>0001BB</td>\n",
       "      <td>1300082549</td>\n",
       "      <td>01/01/2018</td>\n",
       "      <td>31/01/2018</td>\n",
       "      <td>2 447</td>\n",
       "      <td>316,46</td>\n",
       "    </tr>\n",
       "    <tr>\n",
       "      <th>1</th>\n",
       "      <td>0001BB</td>\n",
       "      <td>1300082549</td>\n",
       "      <td>01/02/2018</td>\n",
       "      <td>28/02/2018</td>\n",
       "      <td>2 211</td>\n",
       "      <td>286,82</td>\n",
       "    </tr>\n",
       "    <tr>\n",
       "      <th>2</th>\n",
       "      <td>0001BB</td>\n",
       "      <td>1300082549</td>\n",
       "      <td>01/03/2018</td>\n",
       "      <td>31/03/2018</td>\n",
       "      <td>2 450</td>\n",
       "      <td>317,32</td>\n",
       "    </tr>\n",
       "    <tr>\n",
       "      <th>3</th>\n",
       "      <td>0001BB</td>\n",
       "      <td>1300082549</td>\n",
       "      <td>01/04/2018</td>\n",
       "      <td>30/04/2018</td>\n",
       "      <td>2 431</td>\n",
       "      <td>315,00</td>\n",
       "    </tr>\n",
       "    <tr>\n",
       "      <th>4</th>\n",
       "      <td>0001BB</td>\n",
       "      <td>1300082549</td>\n",
       "      <td>01/05/2018</td>\n",
       "      <td>31/05/2018</td>\n",
       "      <td>2 574</td>\n",
       "      <td>333,37</td>\n",
       "    </tr>\n",
       "  </tbody>\n",
       "</table>\n",
       "</div>"
      ],
      "text/plain": [
       "  SITE_NAME INVOICE_NAME       BEGIN         END KWH_PERIOD PERIOD_EUR\n",
       "0    0001BB   1300082549  01/01/2018  31/01/2018      2 447     316,46\n",
       "1    0001BB   1300082549  01/02/2018  28/02/2018      2 211     286,82\n",
       "2    0001BB   1300082549  01/03/2018  31/03/2018      2 450     317,32\n",
       "3    0001BB   1300082549  01/04/2018  30/04/2018      2 431     315,00\n",
       "4    0001BB   1300082549  01/05/2018  31/05/2018      2 574     333,37"
      ]
     },
     "execution_count": 1502,
     "metadata": {},
     "output_type": "execute_result"
    }
   ],
   "source": [
    "df.head()"
   ]
  },
  {
   "cell_type": "markdown",
   "id": "cb920773",
   "metadata": {},
   "source": [
    "#### 2) On te demande de supprimer la colonne \"INVOICE_NAME\" qui n'apporte rien aux équipes."
   ]
  },
  {
   "cell_type": "code",
   "execution_count": 1503,
   "id": "c70c3ba5",
   "metadata": {},
   "outputs": [],
   "source": [
    "del df[\"INVOICE_NAME\"]"
   ]
  },
  {
   "cell_type": "code",
   "execution_count": 1504,
   "id": "a6fb6c2e",
   "metadata": {},
   "outputs": [
    {
     "data": {
      "text/html": [
       "<div>\n",
       "<style scoped>\n",
       "    .dataframe tbody tr th:only-of-type {\n",
       "        vertical-align: middle;\n",
       "    }\n",
       "\n",
       "    .dataframe tbody tr th {\n",
       "        vertical-align: top;\n",
       "    }\n",
       "\n",
       "    .dataframe thead th {\n",
       "        text-align: right;\n",
       "    }\n",
       "</style>\n",
       "<table border=\"1\" class=\"dataframe\">\n",
       "  <thead>\n",
       "    <tr style=\"text-align: right;\">\n",
       "      <th></th>\n",
       "      <th>SITE_NAME</th>\n",
       "      <th>BEGIN</th>\n",
       "      <th>END</th>\n",
       "      <th>KWH_PERIOD</th>\n",
       "      <th>PERIOD_EUR</th>\n",
       "    </tr>\n",
       "  </thead>\n",
       "  <tbody>\n",
       "    <tr>\n",
       "      <th>0</th>\n",
       "      <td>0001BB</td>\n",
       "      <td>01/01/2018</td>\n",
       "      <td>31/01/2018</td>\n",
       "      <td>2 447</td>\n",
       "      <td>316,46</td>\n",
       "    </tr>\n",
       "    <tr>\n",
       "      <th>1</th>\n",
       "      <td>0001BB</td>\n",
       "      <td>01/02/2018</td>\n",
       "      <td>28/02/2018</td>\n",
       "      <td>2 211</td>\n",
       "      <td>286,82</td>\n",
       "    </tr>\n",
       "    <tr>\n",
       "      <th>2</th>\n",
       "      <td>0001BB</td>\n",
       "      <td>01/03/2018</td>\n",
       "      <td>31/03/2018</td>\n",
       "      <td>2 450</td>\n",
       "      <td>317,32</td>\n",
       "    </tr>\n",
       "    <tr>\n",
       "      <th>3</th>\n",
       "      <td>0001BB</td>\n",
       "      <td>01/04/2018</td>\n",
       "      <td>30/04/2018</td>\n",
       "      <td>2 431</td>\n",
       "      <td>315,00</td>\n",
       "    </tr>\n",
       "    <tr>\n",
       "      <th>4</th>\n",
       "      <td>0001BB</td>\n",
       "      <td>01/05/2018</td>\n",
       "      <td>31/05/2018</td>\n",
       "      <td>2 574</td>\n",
       "      <td>333,37</td>\n",
       "    </tr>\n",
       "  </tbody>\n",
       "</table>\n",
       "</div>"
      ],
      "text/plain": [
       "  SITE_NAME       BEGIN         END KWH_PERIOD PERIOD_EUR\n",
       "0    0001BB  01/01/2018  31/01/2018      2 447     316,46\n",
       "1    0001BB  01/02/2018  28/02/2018      2 211     286,82\n",
       "2    0001BB  01/03/2018  31/03/2018      2 450     317,32\n",
       "3    0001BB  01/04/2018  30/04/2018      2 431     315,00\n",
       "4    0001BB  01/05/2018  31/05/2018      2 574     333,37"
      ]
     },
     "execution_count": 1504,
     "metadata": {},
     "output_type": "execute_result"
    }
   ],
   "source": [
    "df.head()"
   ]
  },
  {
   "cell_type": "markdown",
   "id": "f32de75d",
   "metadata": {},
   "source": [
    "#### 3) Il y a des antennes pour lesquelles on a des factures mensuelles tandis que pour d'autres, on les reçoit moins régulièrement (trimestre, semestre, année). Ajoute une colonne à ton tableau qui calcule le nombre de jours entre le début de la période de facturation et la fin de la période de facturation."
   ]
  },
  {
   "cell_type": "code",
   "execution_count": 1505,
   "id": "5f45c2d3",
   "metadata": {},
   "outputs": [],
   "source": [
    "df['BEGIN'] = pd.to_datetime(df['BEGIN'], format='%d/%m/%Y', errors='coerce')"
   ]
  },
  {
   "cell_type": "code",
   "execution_count": 1506,
   "id": "e4641c3b",
   "metadata": {},
   "outputs": [],
   "source": [
    "df['END'] = pd.to_datetime(df['END'],format='%d/%m/%Y', errors='coerce')\n"
   ]
  },
  {
   "cell_type": "code",
   "execution_count": 1507,
   "id": "24afd463",
   "metadata": {},
   "outputs": [
    {
     "data": {
      "text/html": [
       "<div>\n",
       "<style scoped>\n",
       "    .dataframe tbody tr th:only-of-type {\n",
       "        vertical-align: middle;\n",
       "    }\n",
       "\n",
       "    .dataframe tbody tr th {\n",
       "        vertical-align: top;\n",
       "    }\n",
       "\n",
       "    .dataframe thead th {\n",
       "        text-align: right;\n",
       "    }\n",
       "</style>\n",
       "<table border=\"1\" class=\"dataframe\">\n",
       "  <thead>\n",
       "    <tr style=\"text-align: right;\">\n",
       "      <th></th>\n",
       "      <th>SITE_NAME</th>\n",
       "      <th>BEGIN</th>\n",
       "      <th>END</th>\n",
       "      <th>KWH_PERIOD</th>\n",
       "      <th>PERIOD_EUR</th>\n",
       "    </tr>\n",
       "  </thead>\n",
       "  <tbody>\n",
       "    <tr>\n",
       "      <th>51427</th>\n",
       "      <td>0632KO</td>\n",
       "      <td>2019-08-30</td>\n",
       "      <td>2019-12-31</td>\n",
       "      <td>3 028</td>\n",
       "      <td>397,18</td>\n",
       "    </tr>\n",
       "    <tr>\n",
       "      <th>51428</th>\n",
       "      <td>0632KO</td>\n",
       "      <td>2020-01-01</td>\n",
       "      <td>2020-03-31</td>\n",
       "      <td>2 163</td>\n",
       "      <td>283,57</td>\n",
       "    </tr>\n",
       "    <tr>\n",
       "      <th>51429</th>\n",
       "      <td>0632KO</td>\n",
       "      <td>2020-04-01</td>\n",
       "      <td>2020-06-30</td>\n",
       "      <td>2 160</td>\n",
       "      <td>312,55</td>\n",
       "    </tr>\n",
       "    <tr>\n",
       "      <th>51430</th>\n",
       "      <td>0632KO</td>\n",
       "      <td>2020-07-01</td>\n",
       "      <td>2020-09-30</td>\n",
       "      <td>2 230</td>\n",
       "      <td>294,07</td>\n",
       "    </tr>\n",
       "    <tr>\n",
       "      <th>51431</th>\n",
       "      <td>1203KO</td>\n",
       "      <td>2019-09-27</td>\n",
       "      <td>2019-12-31</td>\n",
       "      <td>4 745</td>\n",
       "      <td>681,96</td>\n",
       "    </tr>\n",
       "  </tbody>\n",
       "</table>\n",
       "</div>"
      ],
      "text/plain": [
       "      SITE_NAME      BEGIN        END KWH_PERIOD PERIOD_EUR\n",
       "51427    0632KO 2019-08-30 2019-12-31      3 028     397,18\n",
       "51428    0632KO 2020-01-01 2020-03-31      2 163     283,57\n",
       "51429    0632KO 2020-04-01 2020-06-30      2 160     312,55\n",
       "51430    0632KO 2020-07-01 2020-09-30      2 230     294,07\n",
       "51431    1203KO 2019-09-27 2019-12-31      4 745     681,96"
      ]
     },
     "execution_count": 1507,
     "metadata": {},
     "output_type": "execute_result"
    }
   ],
   "source": [
    "df.tail()"
   ]
  },
  {
   "cell_type": "code",
   "execution_count": 1508,
   "id": "f2716c81",
   "metadata": {},
   "outputs": [],
   "source": [
    "df['DAY_OF_CONSOM'] = (df['END'] - df['BEGIN']).dt.days"
   ]
  },
  {
   "cell_type": "code",
   "execution_count": 1509,
   "id": "65efa107",
   "metadata": {},
   "outputs": [
    {
     "data": {
      "text/html": [
       "<div>\n",
       "<style scoped>\n",
       "    .dataframe tbody tr th:only-of-type {\n",
       "        vertical-align: middle;\n",
       "    }\n",
       "\n",
       "    .dataframe tbody tr th {\n",
       "        vertical-align: top;\n",
       "    }\n",
       "\n",
       "    .dataframe thead th {\n",
       "        text-align: right;\n",
       "    }\n",
       "</style>\n",
       "<table border=\"1\" class=\"dataframe\">\n",
       "  <thead>\n",
       "    <tr style=\"text-align: right;\">\n",
       "      <th></th>\n",
       "      <th>SITE_NAME</th>\n",
       "      <th>BEGIN</th>\n",
       "      <th>END</th>\n",
       "      <th>KWH_PERIOD</th>\n",
       "      <th>PERIOD_EUR</th>\n",
       "      <th>DAY_OF_CONSOM</th>\n",
       "    </tr>\n",
       "  </thead>\n",
       "  <tbody>\n",
       "    <tr>\n",
       "      <th>0</th>\n",
       "      <td>0001BB</td>\n",
       "      <td>2018-01-01</td>\n",
       "      <td>2018-01-31</td>\n",
       "      <td>2 447</td>\n",
       "      <td>316,46</td>\n",
       "      <td>30</td>\n",
       "    </tr>\n",
       "    <tr>\n",
       "      <th>1</th>\n",
       "      <td>0001BB</td>\n",
       "      <td>2018-02-01</td>\n",
       "      <td>2018-02-28</td>\n",
       "      <td>2 211</td>\n",
       "      <td>286,82</td>\n",
       "      <td>27</td>\n",
       "    </tr>\n",
       "    <tr>\n",
       "      <th>2</th>\n",
       "      <td>0001BB</td>\n",
       "      <td>2018-03-01</td>\n",
       "      <td>2018-03-31</td>\n",
       "      <td>2 450</td>\n",
       "      <td>317,32</td>\n",
       "      <td>30</td>\n",
       "    </tr>\n",
       "    <tr>\n",
       "      <th>3</th>\n",
       "      <td>0001BB</td>\n",
       "      <td>2018-04-01</td>\n",
       "      <td>2018-04-30</td>\n",
       "      <td>2 431</td>\n",
       "      <td>315,00</td>\n",
       "      <td>29</td>\n",
       "    </tr>\n",
       "    <tr>\n",
       "      <th>4</th>\n",
       "      <td>0001BB</td>\n",
       "      <td>2018-05-01</td>\n",
       "      <td>2018-05-31</td>\n",
       "      <td>2 574</td>\n",
       "      <td>333,37</td>\n",
       "      <td>30</td>\n",
       "    </tr>\n",
       "  </tbody>\n",
       "</table>\n",
       "</div>"
      ],
      "text/plain": [
       "  SITE_NAME      BEGIN        END KWH_PERIOD PERIOD_EUR  DAY_OF_CONSOM\n",
       "0    0001BB 2018-01-01 2018-01-31      2 447     316,46             30\n",
       "1    0001BB 2018-02-01 2018-02-28      2 211     286,82             27\n",
       "2    0001BB 2018-03-01 2018-03-31      2 450     317,32             30\n",
       "3    0001BB 2018-04-01 2018-04-30      2 431     315,00             29\n",
       "4    0001BB 2018-05-01 2018-05-31      2 574     333,37             30"
      ]
     },
     "execution_count": 1509,
     "metadata": {},
     "output_type": "execute_result"
    }
   ],
   "source": [
    "df.head()"
   ]
  },
  {
   "cell_type": "code",
   "execution_count": 1510,
   "id": "67119625",
   "metadata": {},
   "outputs": [
    {
     "data": {
      "text/html": [
       "<div>\n",
       "<style scoped>\n",
       "    .dataframe tbody tr th:only-of-type {\n",
       "        vertical-align: middle;\n",
       "    }\n",
       "\n",
       "    .dataframe tbody tr th {\n",
       "        vertical-align: top;\n",
       "    }\n",
       "\n",
       "    .dataframe thead th {\n",
       "        text-align: right;\n",
       "    }\n",
       "</style>\n",
       "<table border=\"1\" class=\"dataframe\">\n",
       "  <thead>\n",
       "    <tr style=\"text-align: right;\">\n",
       "      <th></th>\n",
       "      <th>SITE_NAME</th>\n",
       "      <th>BEGIN</th>\n",
       "      <th>END</th>\n",
       "      <th>KWH_PERIOD</th>\n",
       "      <th>PERIOD_EUR</th>\n",
       "      <th>DAY_OF_CONSOM</th>\n",
       "    </tr>\n",
       "  </thead>\n",
       "  <tbody>\n",
       "    <tr>\n",
       "      <th>51427</th>\n",
       "      <td>0632KO</td>\n",
       "      <td>2019-08-30</td>\n",
       "      <td>2019-12-31</td>\n",
       "      <td>3 028</td>\n",
       "      <td>397,18</td>\n",
       "      <td>123</td>\n",
       "    </tr>\n",
       "    <tr>\n",
       "      <th>51428</th>\n",
       "      <td>0632KO</td>\n",
       "      <td>2020-01-01</td>\n",
       "      <td>2020-03-31</td>\n",
       "      <td>2 163</td>\n",
       "      <td>283,57</td>\n",
       "      <td>90</td>\n",
       "    </tr>\n",
       "    <tr>\n",
       "      <th>51429</th>\n",
       "      <td>0632KO</td>\n",
       "      <td>2020-04-01</td>\n",
       "      <td>2020-06-30</td>\n",
       "      <td>2 160</td>\n",
       "      <td>312,55</td>\n",
       "      <td>90</td>\n",
       "    </tr>\n",
       "    <tr>\n",
       "      <th>51430</th>\n",
       "      <td>0632KO</td>\n",
       "      <td>2020-07-01</td>\n",
       "      <td>2020-09-30</td>\n",
       "      <td>2 230</td>\n",
       "      <td>294,07</td>\n",
       "      <td>91</td>\n",
       "    </tr>\n",
       "    <tr>\n",
       "      <th>51431</th>\n",
       "      <td>1203KO</td>\n",
       "      <td>2019-09-27</td>\n",
       "      <td>2019-12-31</td>\n",
       "      <td>4 745</td>\n",
       "      <td>681,96</td>\n",
       "      <td>95</td>\n",
       "    </tr>\n",
       "  </tbody>\n",
       "</table>\n",
       "</div>"
      ],
      "text/plain": [
       "      SITE_NAME      BEGIN        END KWH_PERIOD PERIOD_EUR  DAY_OF_CONSOM\n",
       "51427    0632KO 2019-08-30 2019-12-31      3 028     397,18            123\n",
       "51428    0632KO 2020-01-01 2020-03-31      2 163     283,57             90\n",
       "51429    0632KO 2020-04-01 2020-06-30      2 160     312,55             90\n",
       "51430    0632KO 2020-07-01 2020-09-30      2 230     294,07             91\n",
       "51431    1203KO 2019-09-27 2019-12-31      4 745     681,96             95"
      ]
     },
     "execution_count": 1510,
     "metadata": {},
     "output_type": "execute_result"
    }
   ],
   "source": [
    "df.tail()"
   ]
  },
  {
   "cell_type": "code",
   "execution_count": 1511,
   "id": "1e5fb1c6",
   "metadata": {},
   "outputs": [
    {
     "data": {
      "text/plain": [
       "dtype('O')"
      ]
     },
     "execution_count": 1511,
     "metadata": {},
     "output_type": "execute_result"
    }
   ],
   "source": [
    "df[\"KWH_PERIOD\"].dtype"
   ]
  },
  {
   "cell_type": "code",
   "execution_count": 1512,
   "id": "87b2bf2b",
   "metadata": {},
   "outputs": [],
   "source": [
    "df['KWH_PERIOD'] = pd.to_numeric(df['KWH_PERIOD'].str.replace(' ', ''))"
   ]
  },
  {
   "cell_type": "code",
   "execution_count": 1513,
   "id": "e4e4f68f",
   "metadata": {},
   "outputs": [
    {
     "data": {
      "text/plain": [
       "dtype('int64')"
      ]
     },
     "execution_count": 1513,
     "metadata": {},
     "output_type": "execute_result"
    }
   ],
   "source": [
    "df[\"KWH_PERIOD\"].dtype \n",
    "df[\"DAY_OF_CONSOM\"].dtype\n"
   ]
  },
  {
   "cell_type": "code",
   "execution_count": 1514,
   "id": "ca5cacfc",
   "metadata": {},
   "outputs": [],
   "source": [
    "df['CONSOM_PER_DAY' ]= df['KWH_PERIOD'] / df['DAY_OF_CONSOM']"
   ]
  },
  {
   "cell_type": "code",
   "execution_count": 1515,
   "id": "bda92620",
   "metadata": {},
   "outputs": [
    {
     "data": {
      "text/html": [
       "<div>\n",
       "<style scoped>\n",
       "    .dataframe tbody tr th:only-of-type {\n",
       "        vertical-align: middle;\n",
       "    }\n",
       "\n",
       "    .dataframe tbody tr th {\n",
       "        vertical-align: top;\n",
       "    }\n",
       "\n",
       "    .dataframe thead th {\n",
       "        text-align: right;\n",
       "    }\n",
       "</style>\n",
       "<table border=\"1\" class=\"dataframe\">\n",
       "  <thead>\n",
       "    <tr style=\"text-align: right;\">\n",
       "      <th></th>\n",
       "      <th>SITE_NAME</th>\n",
       "      <th>BEGIN</th>\n",
       "      <th>END</th>\n",
       "      <th>KWH_PERIOD</th>\n",
       "      <th>PERIOD_EUR</th>\n",
       "      <th>DAY_OF_CONSOM</th>\n",
       "      <th>CONSOM_PER_DAY</th>\n",
       "    </tr>\n",
       "  </thead>\n",
       "  <tbody>\n",
       "    <tr>\n",
       "      <th>0</th>\n",
       "      <td>0001BB</td>\n",
       "      <td>2018-01-01</td>\n",
       "      <td>2018-01-31</td>\n",
       "      <td>2447</td>\n",
       "      <td>316,46</td>\n",
       "      <td>30</td>\n",
       "      <td>81.566667</td>\n",
       "    </tr>\n",
       "    <tr>\n",
       "      <th>1</th>\n",
       "      <td>0001BB</td>\n",
       "      <td>2018-02-01</td>\n",
       "      <td>2018-02-28</td>\n",
       "      <td>2211</td>\n",
       "      <td>286,82</td>\n",
       "      <td>27</td>\n",
       "      <td>81.888889</td>\n",
       "    </tr>\n",
       "    <tr>\n",
       "      <th>2</th>\n",
       "      <td>0001BB</td>\n",
       "      <td>2018-03-01</td>\n",
       "      <td>2018-03-31</td>\n",
       "      <td>2450</td>\n",
       "      <td>317,32</td>\n",
       "      <td>30</td>\n",
       "      <td>81.666667</td>\n",
       "    </tr>\n",
       "    <tr>\n",
       "      <th>3</th>\n",
       "      <td>0001BB</td>\n",
       "      <td>2018-04-01</td>\n",
       "      <td>2018-04-30</td>\n",
       "      <td>2431</td>\n",
       "      <td>315,00</td>\n",
       "      <td>29</td>\n",
       "      <td>83.827586</td>\n",
       "    </tr>\n",
       "    <tr>\n",
       "      <th>4</th>\n",
       "      <td>0001BB</td>\n",
       "      <td>2018-05-01</td>\n",
       "      <td>2018-05-31</td>\n",
       "      <td>2574</td>\n",
       "      <td>333,37</td>\n",
       "      <td>30</td>\n",
       "      <td>85.800000</td>\n",
       "    </tr>\n",
       "  </tbody>\n",
       "</table>\n",
       "</div>"
      ],
      "text/plain": [
       "  SITE_NAME      BEGIN        END  KWH_PERIOD PERIOD_EUR  DAY_OF_CONSOM  \\\n",
       "0    0001BB 2018-01-01 2018-01-31        2447     316,46             30   \n",
       "1    0001BB 2018-02-01 2018-02-28        2211     286,82             27   \n",
       "2    0001BB 2018-03-01 2018-03-31        2450     317,32             30   \n",
       "3    0001BB 2018-04-01 2018-04-30        2431     315,00             29   \n",
       "4    0001BB 2018-05-01 2018-05-31        2574     333,37             30   \n",
       "\n",
       "   CONSOM_PER_DAY  \n",
       "0       81.566667  \n",
       "1       81.888889  \n",
       "2       81.666667  \n",
       "3       83.827586  \n",
       "4       85.800000  "
      ]
     },
     "execution_count": 1515,
     "metadata": {},
     "output_type": "execute_result"
    }
   ],
   "source": [
    "df.head()"
   ]
  },
  {
   "cell_type": "code",
   "execution_count": 1516,
   "id": "365f0f7f",
   "metadata": {},
   "outputs": [],
   "source": [
    "# Arrondir à 2 chiffres avec la fonction round()\n",
    "df['CONSOM_PER_DAY' ] = round(df['CONSOM_PER_DAY' ],2)"
   ]
  },
  {
   "cell_type": "markdown",
   "id": "54cb5811",
   "metadata": {},
   "source": [
    "#### 4) A partir de cette nouvelle colonne, crée une autre colonne qui nous donne la consommation journalière moyenne de la période."
   ]
  },
  {
   "cell_type": "code",
   "execution_count": 1517,
   "id": "b301701b",
   "metadata": {},
   "outputs": [
    {
     "data": {
      "text/html": [
       "<div>\n",
       "<style scoped>\n",
       "    .dataframe tbody tr th:only-of-type {\n",
       "        vertical-align: middle;\n",
       "    }\n",
       "\n",
       "    .dataframe tbody tr th {\n",
       "        vertical-align: top;\n",
       "    }\n",
       "\n",
       "    .dataframe thead th {\n",
       "        text-align: right;\n",
       "    }\n",
       "</style>\n",
       "<table border=\"1\" class=\"dataframe\">\n",
       "  <thead>\n",
       "    <tr style=\"text-align: right;\">\n",
       "      <th></th>\n",
       "      <th>SITE_NAME</th>\n",
       "      <th>BEGIN</th>\n",
       "      <th>END</th>\n",
       "      <th>KWH_PERIOD</th>\n",
       "      <th>PERIOD_EUR</th>\n",
       "      <th>DAY_OF_CONSOM</th>\n",
       "      <th>CONSOM_PER_DAY</th>\n",
       "    </tr>\n",
       "  </thead>\n",
       "  <tbody>\n",
       "    <tr>\n",
       "      <th>0</th>\n",
       "      <td>0001BB</td>\n",
       "      <td>2018-01-01</td>\n",
       "      <td>2018-01-31</td>\n",
       "      <td>2447</td>\n",
       "      <td>316,46</td>\n",
       "      <td>30</td>\n",
       "      <td>81.57</td>\n",
       "    </tr>\n",
       "    <tr>\n",
       "      <th>1</th>\n",
       "      <td>0001BB</td>\n",
       "      <td>2018-02-01</td>\n",
       "      <td>2018-02-28</td>\n",
       "      <td>2211</td>\n",
       "      <td>286,82</td>\n",
       "      <td>27</td>\n",
       "      <td>81.89</td>\n",
       "    </tr>\n",
       "    <tr>\n",
       "      <th>2</th>\n",
       "      <td>0001BB</td>\n",
       "      <td>2018-03-01</td>\n",
       "      <td>2018-03-31</td>\n",
       "      <td>2450</td>\n",
       "      <td>317,32</td>\n",
       "      <td>30</td>\n",
       "      <td>81.67</td>\n",
       "    </tr>\n",
       "    <tr>\n",
       "      <th>3</th>\n",
       "      <td>0001BB</td>\n",
       "      <td>2018-04-01</td>\n",
       "      <td>2018-04-30</td>\n",
       "      <td>2431</td>\n",
       "      <td>315,00</td>\n",
       "      <td>29</td>\n",
       "      <td>83.83</td>\n",
       "    </tr>\n",
       "    <tr>\n",
       "      <th>4</th>\n",
       "      <td>0001BB</td>\n",
       "      <td>2018-05-01</td>\n",
       "      <td>2018-05-31</td>\n",
       "      <td>2574</td>\n",
       "      <td>333,37</td>\n",
       "      <td>30</td>\n",
       "      <td>85.80</td>\n",
       "    </tr>\n",
       "  </tbody>\n",
       "</table>\n",
       "</div>"
      ],
      "text/plain": [
       "  SITE_NAME      BEGIN        END  KWH_PERIOD PERIOD_EUR  DAY_OF_CONSOM  \\\n",
       "0    0001BB 2018-01-01 2018-01-31        2447     316,46             30   \n",
       "1    0001BB 2018-02-01 2018-02-28        2211     286,82             27   \n",
       "2    0001BB 2018-03-01 2018-03-31        2450     317,32             30   \n",
       "3    0001BB 2018-04-01 2018-04-30        2431     315,00             29   \n",
       "4    0001BB 2018-05-01 2018-05-31        2574     333,37             30   \n",
       "\n",
       "   CONSOM_PER_DAY  \n",
       "0           81.57  \n",
       "1           81.89  \n",
       "2           81.67  \n",
       "3           83.83  \n",
       "4           85.80  "
      ]
     },
     "execution_count": 1517,
     "metadata": {},
     "output_type": "execute_result"
    }
   ],
   "source": [
    "df.head()"
   ]
  },
  {
   "cell_type": "markdown",
   "id": "29ce2632",
   "metadata": {},
   "source": [
    "#### 5) Merci d'ajouter également une colonne qui donne, pour chaque antenne, le nombre de factures dont on dispose au total. Pas grave si l'information se répète à chaque ligne pour une même antenne."
   ]
  },
  {
   "cell_type": "code",
   "execution_count": 1518,
   "id": "a6124f98",
   "metadata": {},
   "outputs": [],
   "source": [
    "df['BILLS'] = df.groupby(['SITE_NAME'])['SITE_NAME'].transform('count')"
   ]
  },
  {
   "cell_type": "code",
   "execution_count": 1519,
   "id": "e2bbaf3c",
   "metadata": {},
   "outputs": [
    {
     "data": {
      "text/html": [
       "<div>\n",
       "<style scoped>\n",
       "    .dataframe tbody tr th:only-of-type {\n",
       "        vertical-align: middle;\n",
       "    }\n",
       "\n",
       "    .dataframe tbody tr th {\n",
       "        vertical-align: top;\n",
       "    }\n",
       "\n",
       "    .dataframe thead th {\n",
       "        text-align: right;\n",
       "    }\n",
       "</style>\n",
       "<table border=\"1\" class=\"dataframe\">\n",
       "  <thead>\n",
       "    <tr style=\"text-align: right;\">\n",
       "      <th></th>\n",
       "      <th>SITE_NAME</th>\n",
       "      <th>BEGIN</th>\n",
       "      <th>END</th>\n",
       "      <th>KWH_PERIOD</th>\n",
       "      <th>PERIOD_EUR</th>\n",
       "      <th>DAY_OF_CONSOM</th>\n",
       "      <th>CONSOM_PER_DAY</th>\n",
       "      <th>BILLS</th>\n",
       "    </tr>\n",
       "  </thead>\n",
       "  <tbody>\n",
       "    <tr>\n",
       "      <th>0</th>\n",
       "      <td>0001BB</td>\n",
       "      <td>2018-01-01</td>\n",
       "      <td>2018-01-31</td>\n",
       "      <td>2447</td>\n",
       "      <td>316,46</td>\n",
       "      <td>30</td>\n",
       "      <td>81.57</td>\n",
       "      <td>35</td>\n",
       "    </tr>\n",
       "    <tr>\n",
       "      <th>1</th>\n",
       "      <td>0001BB</td>\n",
       "      <td>2018-02-01</td>\n",
       "      <td>2018-02-28</td>\n",
       "      <td>2211</td>\n",
       "      <td>286,82</td>\n",
       "      <td>27</td>\n",
       "      <td>81.89</td>\n",
       "      <td>35</td>\n",
       "    </tr>\n",
       "    <tr>\n",
       "      <th>2</th>\n",
       "      <td>0001BB</td>\n",
       "      <td>2018-03-01</td>\n",
       "      <td>2018-03-31</td>\n",
       "      <td>2450</td>\n",
       "      <td>317,32</td>\n",
       "      <td>30</td>\n",
       "      <td>81.67</td>\n",
       "      <td>35</td>\n",
       "    </tr>\n",
       "    <tr>\n",
       "      <th>3</th>\n",
       "      <td>0001BB</td>\n",
       "      <td>2018-04-01</td>\n",
       "      <td>2018-04-30</td>\n",
       "      <td>2431</td>\n",
       "      <td>315,00</td>\n",
       "      <td>29</td>\n",
       "      <td>83.83</td>\n",
       "      <td>35</td>\n",
       "    </tr>\n",
       "    <tr>\n",
       "      <th>4</th>\n",
       "      <td>0001BB</td>\n",
       "      <td>2018-05-01</td>\n",
       "      <td>2018-05-31</td>\n",
       "      <td>2574</td>\n",
       "      <td>333,37</td>\n",
       "      <td>30</td>\n",
       "      <td>85.80</td>\n",
       "      <td>35</td>\n",
       "    </tr>\n",
       "  </tbody>\n",
       "</table>\n",
       "</div>"
      ],
      "text/plain": [
       "  SITE_NAME      BEGIN        END  KWH_PERIOD PERIOD_EUR  DAY_OF_CONSOM  \\\n",
       "0    0001BB 2018-01-01 2018-01-31        2447     316,46             30   \n",
       "1    0001BB 2018-02-01 2018-02-28        2211     286,82             27   \n",
       "2    0001BB 2018-03-01 2018-03-31        2450     317,32             30   \n",
       "3    0001BB 2018-04-01 2018-04-30        2431     315,00             29   \n",
       "4    0001BB 2018-05-01 2018-05-31        2574     333,37             30   \n",
       "\n",
       "   CONSOM_PER_DAY  BILLS  \n",
       "0           81.57     35  \n",
       "1           81.89     35  \n",
       "2           81.67     35  \n",
       "3           83.83     35  \n",
       "4           85.80     35  "
      ]
     },
     "execution_count": 1519,
     "metadata": {},
     "output_type": "execute_result"
    }
   ],
   "source": [
    "df.head()"
   ]
  },
  {
   "cell_type": "markdown",
   "id": "03dc4fa5",
   "metadata": {},
   "source": [
    "#### 6) Et information bonus si tu y arrives : les équipes aimeraient beaucoup avoir une liste de toutes les antennes avec, pour chaque antenne, le coefficient de variation de la consommation. Cela permettra d'avoir une idée, pour chaque antenne, de la dispersion de sa consommation d'énergie."
   ]
  },
  {
   "cell_type": "markdown",
   "id": "62b801fc",
   "metadata": {},
   "source": [
    "#### 7) Enfin, tu dois exporter ces deux fichiers obtenus pour pouvoir l'envoyer aux équipes de l'opérateur et leur demander si c'est bien cela qu'ils attendaient de toi.\n"
   ]
  },
  {
   "cell_type": "code",
   "execution_count": 1526,
   "id": "b7de9a70",
   "metadata": {},
   "outputs": [],
   "source": [
    "Invoices_clean = pd.DataFrame.to_csv(df)"
   ]
  },
  {
   "cell_type": "code",
   "execution_count": 1527,
   "id": "84a98ea7",
   "metadata": {},
   "outputs": [],
   "source": [
    "df.to_csv(r'/Users/rodelin/Documents/THP/Invoices_clean.csv', index = False)"
   ]
  },
  {
   "cell_type": "code",
   "execution_count": null,
   "id": "07f98ce6",
   "metadata": {},
   "outputs": [],
   "source": []
  },
  {
   "cell_type": "code",
   "execution_count": null,
   "id": "ceaf4ad0",
   "metadata": {},
   "outputs": [],
   "source": []
  }
 ],
 "metadata": {
  "kernelspec": {
   "display_name": "Python 3 (ipykernel)",
   "language": "python",
   "name": "python3"
  },
  "language_info": {
   "codemirror_mode": {
    "name": "ipython",
    "version": 3
   },
   "file_extension": ".py",
   "mimetype": "text/x-python",
   "name": "python",
   "nbconvert_exporter": "python",
   "pygments_lexer": "ipython3",
   "version": "3.9.12"
  }
 },
 "nbformat": 4,
 "nbformat_minor": 5
}
